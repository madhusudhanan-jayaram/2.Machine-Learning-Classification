{
 "cells": [
  {
   "cell_type": "code",
   "execution_count": 13,
   "id": "86abf614-924f-4bea-b8af-5d4c26273eac",
   "metadata": {},
   "outputs": [],
   "source": [
    "import pickle # Used to save (serialize) and load (deserialize) Python objects like machine learning models"
   ]
  },
  {
   "cell_type": "code",
   "execution_count": 14,
   "id": "2ab79e4e-49c5-4640-a995-89982ed59d5e",
   "metadata": {},
   "outputs": [],
   "source": [
    "# Load the previously saved Linear Regression model from the file\n",
    "# 'rb' means read in binary mode\n",
    "loaded_model = pickle.load(open(\"finalized_model_rf.sav\", 'rb'))"
   ]
  },
  {
   "cell_type": "code",
   "execution_count": 17,
   "id": "cd87ac36-9b98-4def-b680-84660d62b66d",
   "metadata": {},
   "outputs": [
    {
     "name": "stdout",
     "output_type": "stream",
     "text": [
      "Prediction: 1\n"
     ]
    },
    {
     "name": "stderr",
     "output_type": "stream",
     "text": [
      "C:\\Users\\mukil\\anaconda3\\Lib\\site-packages\\sklearn\\base.py:493: UserWarning: X does not have valid feature names, but RandomForestClassifier was fitted with feature names\n",
      "  warnings.warn(\n"
     ]
    }
   ],
   "source": [
    "# Use the model for prediction\n",
    "input_data = [[45, 150000, 1]]\n",
    "result = loaded_model.predict(input_data)[0]\n",
    "print(\"Prediction:\", result)"
   ]
  },
  {
   "cell_type": "code",
   "execution_count": null,
   "id": "6dbda3ca-2efa-4d96-b81d-549cd95200c5",
   "metadata": {},
   "outputs": [],
   "source": []
  }
 ],
 "metadata": {
  "kernelspec": {
   "display_name": "Python [conda env:base] *",
   "language": "python",
   "name": "conda-base-py"
  },
  "language_info": {
   "codemirror_mode": {
    "name": "ipython",
    "version": 3
   },
   "file_extension": ".py",
   "mimetype": "text/x-python",
   "name": "python",
   "nbconvert_exporter": "python",
   "pygments_lexer": "ipython3",
   "version": "3.12.7"
  }
 },
 "nbformat": 4,
 "nbformat_minor": 5
}
